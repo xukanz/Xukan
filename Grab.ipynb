{
  "cells": [
    {
      "cell_type": "markdown",
      "metadata": {
        "id": "view-in-github",
        "colab_type": "text"
      },
      "source": [
        "<a href=\"https://colab.research.google.com/github/xukanz/Xukan/blob/main/Grab.ipynb\" target=\"_parent\"><img src=\"https://colab.research.google.com/assets/colab-badge.svg\" alt=\"Open In Colab\"/></a>"
      ]
    },
    {
      "cell_type": "code",
      "execution_count": null,
      "metadata": {
        "id": "pekP3et0BBbh",
        "colab": {
          "base_uri": "https://localhost:8080/"
        },
        "outputId": "6c406207-79ff-4a23-a0b8-1ff602de7e45"
      },
      "outputs": [
        {
          "output_type": "stream",
          "name": "stdout",
          "text": [
            "Drive already mounted at /content/drive; to attempt to forcibly remount, call drive.mount(\"/content/drive\", force_remount=True).\n"
          ]
        }
      ],
      "source": [
        "from google.colab import drive\n",
        "drive.mount('/content/drive')"
      ]
    },
    {
      "cell_type": "code",
      "execution_count": null,
      "metadata": {
        "id": "QYluUClYCnv6"
      },
      "outputs": [],
      "source": [
        "import pandas as pd\n",
        "import datetime\n",
        "import numpy as np\n",
        "import matplotlib.pyplot as plt\n",
        "\n",
        "BASE_DIR = \"/content/drive/MyDrive/Dataset/Grab/\"\n",
        "FILE_NAME_PATTERN = \"/part-0000{}-8bbff892-97d2-4011-9961-703e38972569.c000.snappy.parquet\""
      ]
    },
    {
      "cell_type": "markdown",
      "metadata": {
        "id": "cZyf4h5rCxMi"
      },
      "source": [
        "## Load dataset"
      ]
    },
    {
      "cell_type": "code",
      "execution_count": null,
      "metadata": {
        "id": "q-Qb92whCn2y"
      },
      "outputs": [],
      "source": [
        "def load_dataset_by_city(city):\n",
        "  dataset = pd.DataFrame()\n",
        "  for i in range(10):\n",
        "    df = pd.read_parquet(BASE_DIR + city + FILE_NAME_PATTERN.format(i))\n",
        "    dataset = pd.concat([dataset, df])\n",
        "  return dataset"
      ]
    },
    {
      "cell_type": "code",
      "source": [
        "def load_single_jakarta_file():\n",
        "  return pd.read_parquet(BASE_DIR + \"Jakarta\" + FILE_NAME_PATTERN.format(0))"
      ],
      "metadata": {
        "id": "_FfHPbcHKOQ1"
      },
      "execution_count": null,
      "outputs": []
    },
    {
      "cell_type": "markdown",
      "source": [
        "## Change data types"
      ],
      "metadata": {
        "id": "32954JzxdvG_"
      }
    },
    {
      "cell_type": "code",
      "source": [
        "# functions to change dtypes\n",
        "def to_category(df, *args):\n",
        "    for col_name in args:\n",
        "        df[col_name] = df[col_name].astype(\"category\")\n",
        "    \n",
        "def to_float32(df, *args):\n",
        "    for col_name in args:\n",
        "        df[col_name] = df[col_name].astype(\"float32\")\n",
        "        \n",
        "def to_uint16(df, *args):\n",
        "    for col_name in args:\n",
        "        df[col_name] = df[col_name].astype(\"uint16\")\n",
        "  \n",
        "def to_int32(df, *args):\n",
        "    for col_name in args:\n",
        "      df[col_name] = df[col_name].astype(\"int32\")\n",
        "\n",
        "def format_datetime(df, col_name):\n",
        "    # get datetime obj for all timestamps\n",
        "    dt = df[col_name].apply(datetime.datetime.fromtimestamp)\n",
        "    \n",
        "    df[\"time\"] = dt.apply(lambda x: x.time())\n",
        "    df[\"day_of_week\"] = dt.apply(lambda x: x.weekday())\n",
        "    df[\"month\"] = dt.apply(lambda x: x.month)\n",
        "    df[\"year\"] = dt.apply(lambda x: x.year)"
      ],
      "metadata": {
        "id": "v_MFdctcEU47"
      },
      "execution_count": null,
      "outputs": []
    },
    {
      "cell_type": "code",
      "execution_count": null,
      "metadata": {
        "colab": {
          "base_uri": "https://localhost:8080/"
        },
        "id": "SQumIBsvCn5K",
        "outputId": "a225e74e-2104-44d5-9f7a-a28254763d1d"
      },
      "outputs": [
        {
          "output_type": "stream",
          "name": "stdout",
          "text": [
            "<class 'pandas.core.frame.DataFrame'>\n",
            "Int64Index: 30329685 entries, 0 to 3032568\n",
            "Data columns (total 13 columns):\n",
            " #   Column         Dtype   \n",
            "---  ------         -----   \n",
            " 0   trj_id         category\n",
            " 1   driving_mode   category\n",
            " 2   osname         category\n",
            " 3   pingtimestamp  int32   \n",
            " 4   rawlat         float32 \n",
            " 5   rawlng         float32 \n",
            " 6   speed          float32 \n",
            " 7   bearing        uint16  \n",
            " 8   accuracy       float32 \n",
            " 9   time           object  \n",
            " 10  day_of_week    uint16  \n",
            " 11  month          uint16  \n",
            " 12  year           uint16  \n",
            "dtypes: category(3), float32(4), int32(1), object(1), uint16(4)\n",
            "memory usage: 1.4+ GB\n"
          ]
        }
      ],
      "source": [
        "sg_dataset = load_dataset_by_city('Singapore')\n",
        "format_datetime(sg_dataset, \"pingtimestamp\")\n",
        "to_category(sg_dataset, [\"trj_id\", \"driving_mode\", \"osname\"])\n",
        "to_float32(sg_dataset, [\"rawlat\", \"rawlng\", \"speed\", \"accuracy\"])\n",
        "to_uint16(sg_dataset, [\"bearing\", \"day_of_week\", \"month\", \"year\"])\n",
        "to_int32(sg_dataset, \"pingtimestamp\")\n",
        "sg_dataset.info()"
      ]
    },
    {
      "cell_type": "code",
      "execution_count": null,
      "metadata": {
        "colab": {
          "base_uri": "https://localhost:8080/",
          "height": 300
        },
        "id": "YumXXGWzCoAq",
        "outputId": "5ae175be-e5d0-47a3-ce3f-97a7219c1776"
      },
      "outputs": [
        {
          "output_type": "execute_result",
          "data": {
            "text/html": [
              "\n",
              "  <div id=\"df-7d59d492-f9c0-49bd-a739-cdeb6c4c16a9\">\n",
              "    <div class=\"colab-df-container\">\n",
              "      <div>\n",
              "<style scoped>\n",
              "    .dataframe tbody tr th:only-of-type {\n",
              "        vertical-align: middle;\n",
              "    }\n",
              "\n",
              "    .dataframe tbody tr th {\n",
              "        vertical-align: top;\n",
              "    }\n",
              "\n",
              "    .dataframe thead th {\n",
              "        text-align: right;\n",
              "    }\n",
              "</style>\n",
              "<table border=\"1\" class=\"dataframe\">\n",
              "  <thead>\n",
              "    <tr style=\"text-align: right;\">\n",
              "      <th></th>\n",
              "      <th>pingtimestamp</th>\n",
              "      <th>rawlat</th>\n",
              "      <th>rawlng</th>\n",
              "      <th>speed</th>\n",
              "      <th>bearing</th>\n",
              "      <th>accuracy</th>\n",
              "      <th>day_of_week</th>\n",
              "      <th>month</th>\n",
              "      <th>year</th>\n",
              "    </tr>\n",
              "  </thead>\n",
              "  <tbody>\n",
              "    <tr>\n",
              "      <th>count</th>\n",
              "      <td>3.032968e+07</td>\n",
              "      <td>3.032968e+07</td>\n",
              "      <td>3.032968e+07</td>\n",
              "      <td>3.032968e+07</td>\n",
              "      <td>3.032968e+07</td>\n",
              "      <td>3.032968e+07</td>\n",
              "      <td>3.032968e+07</td>\n",
              "      <td>30329685.0</td>\n",
              "      <td>30329685.0</td>\n",
              "    </tr>\n",
              "    <tr>\n",
              "      <th>mean</th>\n",
              "      <td>1.555321e+09</td>\n",
              "      <td>1.106323e+00</td>\n",
              "      <td>7.080468e+01</td>\n",
              "      <td>1.723095e+01</td>\n",
              "      <td>1.788420e+02</td>\n",
              "      <td>6.423700e+00</td>\n",
              "      <td>3.134983e+00</td>\n",
              "      <td>4.0</td>\n",
              "      <td>2019.0</td>\n",
              "    </tr>\n",
              "    <tr>\n",
              "      <th>std</th>\n",
              "      <td>3.580121e+05</td>\n",
              "      <td>2.323540e-01</td>\n",
              "      <td>3.365821e+01</td>\n",
              "      <td>6.906806e+00</td>\n",
              "      <td>1.017391e+02</td>\n",
              "      <td>3.871886e+01</td>\n",
              "      <td>1.969039e+00</td>\n",
              "      <td>0.0</td>\n",
              "      <td>0.0</td>\n",
              "    </tr>\n",
              "    <tr>\n",
              "      <th>min</th>\n",
              "      <td>1.554682e+09</td>\n",
              "      <td>1.241585e+00</td>\n",
              "      <td>1.036143e+02</td>\n",
              "      <td>-1.000000e+00</td>\n",
              "      <td>0.000000e+00</td>\n",
              "      <td>1.000000e+00</td>\n",
              "      <td>0.000000e+00</td>\n",
              "      <td>4.0</td>\n",
              "      <td>2019.0</td>\n",
              "    </tr>\n",
              "    <tr>\n",
              "      <th>25%</th>\n",
              "      <td>1.554999e+09</td>\n",
              "      <td>1.322314e+00</td>\n",
              "      <td>1.037903e+02</td>\n",
              "      <td>1.168946e+01</td>\n",
              "      <td>9.300000e+01</td>\n",
              "      <td>4.000000e+00</td>\n",
              "      <td>1.000000e+00</td>\n",
              "      <td>4.0</td>\n",
              "      <td>2019.0</td>\n",
              "    </tr>\n",
              "    <tr>\n",
              "      <th>50%</th>\n",
              "      <td>1.555343e+09</td>\n",
              "      <td>1.339908e+00</td>\n",
              "      <td>1.038394e+02</td>\n",
              "      <td>1.789483e+01</td>\n",
              "      <td>1.720000e+02</td>\n",
              "      <td>6.000000e+00</td>\n",
              "      <td>3.000000e+00</td>\n",
              "      <td>4.0</td>\n",
              "      <td>2019.0</td>\n",
              "    </tr>\n",
              "    <tr>\n",
              "      <th>75%</th>\n",
              "      <td>1.555645e+09</td>\n",
              "      <td>1.377545e+00</td>\n",
              "      <td>1.038748e+02</td>\n",
              "      <td>2.186000e+01</td>\n",
              "      <td>2.690000e+02</td>\n",
              "      <td>1.000000e+01</td>\n",
              "      <td>5.000000e+00</td>\n",
              "      <td>4.0</td>\n",
              "      <td>2019.0</td>\n",
              "    </tr>\n",
              "    <tr>\n",
              "      <th>max</th>\n",
              "      <td>1.555891e+09</td>\n",
              "      <td>1.465650e+00</td>\n",
              "      <td>1.040314e+02</td>\n",
              "      <td>9.300000e+01</td>\n",
              "      <td>3.590000e+02</td>\n",
              "      <td>1.490000e+05</td>\n",
              "      <td>6.000000e+00</td>\n",
              "      <td>4.0</td>\n",
              "      <td>2019.0</td>\n",
              "    </tr>\n",
              "  </tbody>\n",
              "</table>\n",
              "</div>\n",
              "      <button class=\"colab-df-convert\" onclick=\"convertToInteractive('df-7d59d492-f9c0-49bd-a739-cdeb6c4c16a9')\"\n",
              "              title=\"Convert this dataframe to an interactive table.\"\n",
              "              style=\"display:none;\">\n",
              "        \n",
              "  <svg xmlns=\"http://www.w3.org/2000/svg\" height=\"24px\"viewBox=\"0 0 24 24\"\n",
              "       width=\"24px\">\n",
              "    <path d=\"M0 0h24v24H0V0z\" fill=\"none\"/>\n",
              "    <path d=\"M18.56 5.44l.94 2.06.94-2.06 2.06-.94-2.06-.94-.94-2.06-.94 2.06-2.06.94zm-11 1L8.5 8.5l.94-2.06 2.06-.94-2.06-.94L8.5 2.5l-.94 2.06-2.06.94zm10 10l.94 2.06.94-2.06 2.06-.94-2.06-.94-.94-2.06-.94 2.06-2.06.94z\"/><path d=\"M17.41 7.96l-1.37-1.37c-.4-.4-.92-.59-1.43-.59-.52 0-1.04.2-1.43.59L10.3 9.45l-7.72 7.72c-.78.78-.78 2.05 0 2.83L4 21.41c.39.39.9.59 1.41.59.51 0 1.02-.2 1.41-.59l7.78-7.78 2.81-2.81c.8-.78.8-2.07 0-2.86zM5.41 20L4 18.59l7.72-7.72 1.47 1.35L5.41 20z\"/>\n",
              "  </svg>\n",
              "      </button>\n",
              "      \n",
              "  <style>\n",
              "    .colab-df-container {\n",
              "      display:flex;\n",
              "      flex-wrap:wrap;\n",
              "      gap: 12px;\n",
              "    }\n",
              "\n",
              "    .colab-df-convert {\n",
              "      background-color: #E8F0FE;\n",
              "      border: none;\n",
              "      border-radius: 50%;\n",
              "      cursor: pointer;\n",
              "      display: none;\n",
              "      fill: #1967D2;\n",
              "      height: 32px;\n",
              "      padding: 0 0 0 0;\n",
              "      width: 32px;\n",
              "    }\n",
              "\n",
              "    .colab-df-convert:hover {\n",
              "      background-color: #E2EBFA;\n",
              "      box-shadow: 0px 1px 2px rgba(60, 64, 67, 0.3), 0px 1px 3px 1px rgba(60, 64, 67, 0.15);\n",
              "      fill: #174EA6;\n",
              "    }\n",
              "\n",
              "    [theme=dark] .colab-df-convert {\n",
              "      background-color: #3B4455;\n",
              "      fill: #D2E3FC;\n",
              "    }\n",
              "\n",
              "    [theme=dark] .colab-df-convert:hover {\n",
              "      background-color: #434B5C;\n",
              "      box-shadow: 0px 1px 3px 1px rgba(0, 0, 0, 0.15);\n",
              "      filter: drop-shadow(0px 1px 2px rgba(0, 0, 0, 0.3));\n",
              "      fill: #FFFFFF;\n",
              "    }\n",
              "  </style>\n",
              "\n",
              "      <script>\n",
              "        const buttonEl =\n",
              "          document.querySelector('#df-7d59d492-f9c0-49bd-a739-cdeb6c4c16a9 button.colab-df-convert');\n",
              "        buttonEl.style.display =\n",
              "          google.colab.kernel.accessAllowed ? 'block' : 'none';\n",
              "\n",
              "        async function convertToInteractive(key) {\n",
              "          const element = document.querySelector('#df-7d59d492-f9c0-49bd-a739-cdeb6c4c16a9');\n",
              "          const dataTable =\n",
              "            await google.colab.kernel.invokeFunction('convertToInteractive',\n",
              "                                                     [key], {});\n",
              "          if (!dataTable) return;\n",
              "\n",
              "          const docLinkHtml = 'Like what you see? Visit the ' +\n",
              "            '<a target=\"_blank\" href=https://colab.research.google.com/notebooks/data_table.ipynb>data table notebook</a>'\n",
              "            + ' to learn more about interactive tables.';\n",
              "          element.innerHTML = '';\n",
              "          dataTable['output_type'] = 'display_data';\n",
              "          await google.colab.output.renderOutput(dataTable, element);\n",
              "          const docLink = document.createElement('div');\n",
              "          docLink.innerHTML = docLinkHtml;\n",
              "          element.appendChild(docLink);\n",
              "        }\n",
              "      </script>\n",
              "    </div>\n",
              "  </div>\n",
              "  "
            ],
            "text/plain": [
              "       pingtimestamp        rawlat  ...       month        year\n",
              "count   3.032968e+07  3.032968e+07  ...  30329685.0  30329685.0\n",
              "mean    1.555321e+09  1.106323e+00  ...         4.0      2019.0\n",
              "std     3.580121e+05  2.323540e-01  ...         0.0         0.0\n",
              "min     1.554682e+09  1.241585e+00  ...         4.0      2019.0\n",
              "25%     1.554999e+09  1.322314e+00  ...         4.0      2019.0\n",
              "50%     1.555343e+09  1.339908e+00  ...         4.0      2019.0\n",
              "75%     1.555645e+09  1.377545e+00  ...         4.0      2019.0\n",
              "max     1.555891e+09  1.465650e+00  ...         4.0      2019.0\n",
              "\n",
              "[8 rows x 9 columns]"
            ]
          },
          "metadata": {},
          "execution_count": 75
        }
      ],
      "source": [
        "sg_dataset.describe()"
      ]
    },
    {
      "cell_type": "markdown",
      "source": [
        "## Preprocess all start and end locations and write into file"
      ],
      "metadata": {
        "id": "5_YC63TudJ2w"
      }
    },
    {
      "cell_type": "code",
      "source": [
        "sg_trj_id_set = np.unique(sg_dataset.trj_id)"
      ],
      "metadata": {
        "id": "8jzNwF9Ed7O3"
      },
      "execution_count": null,
      "outputs": []
    },
    {
      "cell_type": "code",
      "source": [
        "def get_route(dataset, trj_id):\n",
        "  return dataset.query('trj_id == ' + f\"'{trj_id}'\").sort_values(\"pingtimestamp\")[[\"rawlat\", \"rawlng\", \"pingtimestamp\"]]"
      ],
      "metadata": {
        "id": "dS0M82bKd7Kv"
      },
      "execution_count": null,
      "outputs": []
    },
    {
      "cell_type": "code",
      "source": [
        "# from tqdm import tqdm\n",
        "# sg_trj_starts = {}\n",
        "# sg_trj_ends = {}\n",
        "# for id in tqdm(sg_trj_id_set):\n",
        "#   route = get_route(sg_dataset, id)\n",
        "#   sg_trj_starts[id] = route.iloc[0, :]\n",
        "#   sg_trj_ends[id] = route.iloc[-1, :]"
      ],
      "metadata": {
        "id": "3s_kq-D3O2G0"
      },
      "execution_count": null,
      "outputs": []
    },
    {
      "cell_type": "code",
      "source": [
        "# import pickle\n",
        "# with open(BASE_DIR + \"SG_ROUTE_START.pkl\", \"wb\") as f:\n",
        "#   pickle.dump(sg_trj_starts, f)\n",
        "\n",
        "# with open(BASE_DIR + \"SG_ROUTE_END.pkl\", \"wb\") as f:\n",
        "#   pickle.dump(sg_trj_ends, f)"
      ],
      "metadata": {
        "id": "6f0kdK7q14cN"
      },
      "execution_count": null,
      "outputs": []
    },
    {
      "cell_type": "code",
      "source": [
        "import pickle\n",
        "with open(BASE_DIR + \"SG_ROUTE_START.pkl\", \"rb\") as f:\n",
        "  sg_trj_starts = pickle.load(f)\n",
        "\n",
        "with open(BASE_DIR + \"SG_ROUTE_END.pkl\", \"rb\") as f:\n",
        "  sg_trj_ends = pickle.load(f)"
      ],
      "metadata": {
        "id": "TBHqOnM_tLeo"
      },
      "execution_count": null,
      "outputs": []
    },
    {
      "cell_type": "markdown",
      "source": [
        "## Preprocess morning peek hours and night peek hours every day."
      ],
      "metadata": {
        "id": "Cfbp1OIWdQl3"
      }
    },
    {
      "cell_type": "code",
      "source": [
        "min_timestamp = 1.554682e+09\n",
        "max_timestamp = 1.555891e+09\n",
        "one_day_seconds = 24 * 3600\n",
        "print(datetime.datetime.fromtimestamp(min_timestamp))\n",
        "print(datetime.datetime.fromtimestamp(max_timestamp))"
      ],
      "metadata": {
        "colab": {
          "base_uri": "https://localhost:8080/"
        },
        "id": "zyOEyBV_iUlb",
        "outputId": "1250690d-33c6-4277-b71e-b1a0d9af82da"
      },
      "execution_count": null,
      "outputs": [
        {
          "output_type": "stream",
          "name": "stdout",
          "text": [
            "2019-04-08 00:06:40\n",
            "2019-04-21 23:56:40\n"
          ]
        }
      ]
    },
    {
      "cell_type": "code",
      "source": [
        "morning_peek_hour_start = datetime.datetime(2019, 4, 8, 9)\n",
        "morning_peek_hour_start = int(morning_peek_hour_start.timestamp())\n",
        "\n",
        "morning_peek_hour_end = datetime.datetime(2019, 4, 8, 13)\n",
        "morning_peek_hour_end = int(morning_peek_hour_end.timestamp())\n",
        "\n",
        "night_peek_hour_start = datetime.datetime(2019, 4, 8, 21)\n",
        "night_peek_hour_start = int(night_peek_hour_start.timestamp())\n",
        "\n",
        "night_peek_hour_end = datetime.datetime(2019, 4, 9, 1)\n",
        "night_peek_hour_end = int(night_peek_hour_end.timestamp())"
      ],
      "metadata": {
        "id": "3zTqYQ07iUiU"
      },
      "execution_count": null,
      "outputs": []
    },
    {
      "cell_type": "code",
      "source": [
        "all_morning_peek_hours = [(morning_peek_hour_start + i * one_day_seconds, morning_peek_hour_end + i * one_day_seconds) for i in range(14)]\n",
        "all_night_peek_hours = [(night_peek_hour_start + i * one_day_seconds, night_peek_hour_end + i * one_day_seconds) for i in range(14)]"
      ],
      "metadata": {
        "id": "EYeg_6NNiUd-"
      },
      "execution_count": null,
      "outputs": []
    },
    {
      "cell_type": "code",
      "source": [
        "all_night_peek_hours"
      ],
      "metadata": {
        "colab": {
          "base_uri": "https://localhost:8080/"
        },
        "id": "2qZykIho7qTl",
        "outputId": "f5ba295d-fb51-43f3-c2af-b6fe8491d1ea"
      },
      "execution_count": null,
      "outputs": [
        {
          "output_type": "execute_result",
          "data": {
            "text/plain": [
              "[(1554757200, 1554771600),\n",
              " (1554843600, 1554858000),\n",
              " (1554930000, 1554944400),\n",
              " (1555016400, 1555030800),\n",
              " (1555102800, 1555117200),\n",
              " (1555189200, 1555203600),\n",
              " (1555275600, 1555290000),\n",
              " (1555362000, 1555376400),\n",
              " (1555448400, 1555462800),\n",
              " (1555534800, 1555549200),\n",
              " (1555621200, 1555635600),\n",
              " (1555707600, 1555722000),\n",
              " (1555794000, 1555808400),\n",
              " (1555880400, 1555894800)]"
            ]
          },
          "metadata": {},
          "execution_count": 84
        }
      ]
    },
    {
      "cell_type": "markdown",
      "source": [
        "## Sample passengers and drivers\n",
        "we sampled passengers and drivers by enumerating “pivot” time every 10 minutes . For every pivot, we filtered all trajectories that ended within 3 minutes before the pivot and took their end locations as locations of drivers. Similarly, we filtered all trajectories that started within 3 minutes before the pivot and took their start locations as locations of locations of passengers."
      ],
      "metadata": {
        "id": "yqwQnohwdarg"
      }
    },
    {
      "cell_type": "code",
      "source": [
        "from tqdm import tqdm\n",
        "sample_passengers = {}\n",
        "sample_drivers = {}\n",
        "\n",
        "for i in tqdm(range(14)):\n",
        "  morning_peek_start = all_morning_peek_hours[i][0]\n",
        "  morning_peek_end = all_morning_peek_hours[i][1]\n",
        "  night_peek_start = all_night_peek_hours[i][0]\n",
        "  night_peek_end = all_night_peek_hours[i][1]\n",
        "  sample_passengers[i] = {}\n",
        "  sample_drivers[i] = {}\n",
        "  \n",
        "  # morning peek\n",
        "  for time_point in range(morning_peek_start, morning_peek_end, 300):\n",
        "    sample_passengers[i][time_point] = []\n",
        "    sample_drivers[i][time_point] = []\n",
        "    \n",
        "    # get all ends\n",
        "    for trj_id in sg_trj_id_set:\n",
        "      trj_id = str(trj_id)\n",
        "      location = (sg_trj_ends[trj_id][0], sg_trj_ends[trj_id][1])\n",
        "      trj_timestamp = sg_trj_ends[trj_id][2]\n",
        "      if trj_timestamp > time_point - 180 and trj_timestamp < time_point:\n",
        "          sample_drivers[i][time_point].append(location)\n",
        "    \n",
        "    # get all starts\n",
        "    for trj_id in sg_trj_id_set:\n",
        "      trj_id = str(trj_id)\n",
        "      location = (sg_trj_starts[trj_id][0], sg_trj_starts[trj_id][1])\n",
        "      trj_timestamp = sg_trj_starts[trj_id][2]\n",
        "      if trj_timestamp > time_point and trj_timestamp < time_point + 180:\n",
        "          sample_passengers[i][time_point].append(location)\n",
        "              \n",
        "  \n",
        "  # night peek\n",
        "  for time_point in range(night_peek_start, night_peek_end, 300):\n",
        "    sample_passengers[i][time_point] = []\n",
        "    sample_drivers[i][time_point] = []\n",
        "    \n",
        "    # get all ends\n",
        "    for trj_id in sg_trj_id_set:\n",
        "      trj_id = str(trj_id)\n",
        "      location = (sg_trj_ends[trj_id][0], sg_trj_ends[trj_id][1])\n",
        "      trj_timestamp = sg_trj_ends[trj_id][2]\n",
        "      if trj_timestamp > time_point - 180 and trj_timestamp < time_point:\n",
        "          sample_drivers[i][time_point].append(location)\n",
        "    \n",
        "    # get all starts\n",
        "    for trj_id in sg_trj_id_set:\n",
        "      trj_id = str(trj_id)\n",
        "      location = (sg_trj_starts[trj_id][0], sg_trj_starts[trj_id][1])\n",
        "      trj_timestamp = sg_trj_starts[trj_id][2]\n",
        "      if trj_timestamp > time_point and trj_timestamp < time_point + 180:\n",
        "          sample_passengers[i][time_point].append(location)\n",
        "    "
      ],
      "metadata": {
        "id": "Sz5BDwHAiUal"
      },
      "execution_count": null,
      "outputs": []
    },
    {
      "cell_type": "code",
      "source": [
        "import pickle\n",
        "with open(BASE_DIR + \"SAMPLE_DRIVER2.pkl\", \"wb\") as f:\n",
        "  pickle.dump(sample_drivers, f)\n",
        "\n",
        "with open(BASE_DIR + \"SAMPLE_PASSENGER2.pkl\", \"wb\") as f:\n",
        "  pickle.dump(sample_passengers, f)"
      ],
      "metadata": {
        "id": "5Wql9cSwEifO"
      },
      "execution_count": null,
      "outputs": []
    },
    {
      "cell_type": "markdown",
      "source": [
        "## Visulization"
      ],
      "metadata": {
        "id": "XfKE5hrWdmqQ"
      }
    },
    {
      "cell_type": "code",
      "source": [
        "import folium\n",
        "from folium import plugins\n",
        "from branca.element import Figure"
      ],
      "metadata": {
        "id": "2dgb5sYcUTi7"
      },
      "execution_count": null,
      "outputs": []
    },
    {
      "cell_type": "code",
      "source": [
        "sg_lat = 1.290270\n",
        "sg_lng = 103.851959\n",
        "\n",
        "jk_lat = -6.2088\n",
        "jk_lng = 106.8456"
      ],
      "metadata": {
        "id": "sqN33sptUTWo"
      },
      "execution_count": null,
      "outputs": []
    },
    {
      "cell_type": "code",
      "source": [
        "# create figure\n",
        "fig = Figure(width = 550, height = 350)\n",
        "\n",
        "# add map to figure\n",
        "m = folium.Map(location = [sg_lat, sg_lng],\n",
        "         tiles = 'cartodbpositron',\n",
        "         zoom_start = 11)\n",
        "fig.add_child(m)"
      ],
      "metadata": {
        "id": "VYHTzd2JOCUk",
        "colab": {
          "base_uri": "https://localhost:8080/",
          "height": 371
        },
        "outputId": "a8cefc5e-1629-4946-bd04-414535dd7634"
      },
      "execution_count": null,
      "outputs": [
        {
          "output_type": "execute_result",
          "data": {
            "text/html": [
              "<iframe src=\"about:blank\" width=\"550\" height=\"350\"style=\"border:none !important;\" data-html=%3C%21DOCTYPE%20html%3E%0A%3Chead%3E%20%20%20%20%0A%20%20%20%20%3Cmeta%20http-equiv%3D%22content-type%22%20content%3D%22text/html%3B%20charset%3DUTF-8%22%20/%3E%0A%20%20%20%20%3Cscript%3EL_PREFER_CANVAS%3Dfalse%3B%20L_NO_TOUCH%3Dfalse%3B%20L_DISABLE_3D%3Dfalse%3B%3C/script%3E%0A%20%20%20%20%3Cscript%20src%3D%22https%3A//cdn.jsdelivr.net/npm/leaflet%401.4.0/dist/leaflet.js%22%3E%3C/script%3E%0A%20%20%20%20%3Cscript%20src%3D%22https%3A//code.jquery.com/jquery-1.12.4.min.js%22%3E%3C/script%3E%0A%20%20%20%20%3Cscript%20src%3D%22https%3A//maxcdn.bootstrapcdn.com/bootstrap/3.2.0/js/bootstrap.min.js%22%3E%3C/script%3E%0A%20%20%20%20%3Cscript%20src%3D%22https%3A//cdnjs.cloudflare.com/ajax/libs/Leaflet.awesome-markers/2.0.2/leaflet.awesome-markers.js%22%3E%3C/script%3E%0A%20%20%20%20%3Clink%20rel%3D%22stylesheet%22%20href%3D%22https%3A//cdn.jsdelivr.net/npm/leaflet%401.4.0/dist/leaflet.css%22/%3E%0A%20%20%20%20%3Clink%20rel%3D%22stylesheet%22%20href%3D%22https%3A//maxcdn.bootstrapcdn.com/bootstrap/3.2.0/css/bootstrap.min.css%22/%3E%0A%20%20%20%20%3Clink%20rel%3D%22stylesheet%22%20href%3D%22https%3A//maxcdn.bootstrapcdn.com/bootstrap/3.2.0/css/bootstrap-theme.min.css%22/%3E%0A%20%20%20%20%3Clink%20rel%3D%22stylesheet%22%20href%3D%22https%3A//maxcdn.bootstrapcdn.com/font-awesome/4.6.3/css/font-awesome.min.css%22/%3E%0A%20%20%20%20%3Clink%20rel%3D%22stylesheet%22%20href%3D%22https%3A//cdnjs.cloudflare.com/ajax/libs/Leaflet.awesome-markers/2.0.2/leaflet.awesome-markers.css%22/%3E%0A%20%20%20%20%3Clink%20rel%3D%22stylesheet%22%20href%3D%22https%3A//rawcdn.githack.com/python-visualization/folium/master/folium/templates/leaflet.awesome.rotate.css%22/%3E%0A%20%20%20%20%3Cstyle%3Ehtml%2C%20body%20%7Bwidth%3A%20100%25%3Bheight%3A%20100%25%3Bmargin%3A%200%3Bpadding%3A%200%3B%7D%3C/style%3E%0A%20%20%20%20%3Cstyle%3E%23map%20%7Bposition%3Aabsolute%3Btop%3A0%3Bbottom%3A0%3Bright%3A0%3Bleft%3A0%3B%7D%3C/style%3E%0A%20%20%20%20%0A%20%20%20%20%3Cmeta%20name%3D%22viewport%22%20content%3D%22width%3Ddevice-width%2C%0A%20%20%20%20%20%20%20%20initial-scale%3D1.0%2C%20maximum-scale%3D1.0%2C%20user-scalable%3Dno%22%20/%3E%0A%20%20%20%20%3Cstyle%3E%23map_9484cc7dedbf4e0187cbd8a94946ebbe%20%7B%0A%20%20%20%20%20%20%20%20position%3A%20relative%3B%0A%20%20%20%20%20%20%20%20width%3A%20100.0%25%3B%0A%20%20%20%20%20%20%20%20height%3A%20100.0%25%3B%0A%20%20%20%20%20%20%20%20left%3A%200.0%25%3B%0A%20%20%20%20%20%20%20%20top%3A%200.0%25%3B%0A%20%20%20%20%20%20%20%20%7D%0A%20%20%20%20%3C/style%3E%0A%3C/head%3E%0A%3Cbody%3E%20%20%20%20%0A%20%20%20%20%0A%20%20%20%20%3Cdiv%20class%3D%22folium-map%22%20id%3D%22map_9484cc7dedbf4e0187cbd8a94946ebbe%22%20%3E%3C/div%3E%0A%3C/body%3E%0A%3Cscript%3E%20%20%20%20%0A%20%20%20%20%0A%20%20%20%20%0A%20%20%20%20%20%20%20%20var%20bounds%20%3D%20null%3B%0A%20%20%20%20%0A%0A%20%20%20%20var%20map_9484cc7dedbf4e0187cbd8a94946ebbe%20%3D%20L.map%28%0A%20%20%20%20%20%20%20%20%27map_9484cc7dedbf4e0187cbd8a94946ebbe%27%2C%20%7B%0A%20%20%20%20%20%20%20%20center%3A%20%5B1.29027%2C%20103.851959%5D%2C%0A%20%20%20%20%20%20%20%20zoom%3A%2011%2C%0A%20%20%20%20%20%20%20%20maxBounds%3A%20bounds%2C%0A%20%20%20%20%20%20%20%20layers%3A%20%5B%5D%2C%0A%20%20%20%20%20%20%20%20worldCopyJump%3A%20false%2C%0A%20%20%20%20%20%20%20%20crs%3A%20L.CRS.EPSG3857%2C%0A%20%20%20%20%20%20%20%20zoomControl%3A%20true%2C%0A%20%20%20%20%20%20%20%20%7D%29%3B%0A%0A%0A%20%20%20%20%0A%20%20%20%20var%20tile_layer_c68b32ac894745ea8db54284e6e55d35%20%3D%20L.tileLayer%28%0A%20%20%20%20%20%20%20%20%27https%3A//cartodb-basemaps-%7Bs%7D.global.ssl.fastly.net/light_all/%7Bz%7D/%7Bx%7D/%7By%7D.png%27%2C%0A%20%20%20%20%20%20%20%20%7B%0A%20%20%20%20%20%20%20%20%22attribution%22%3A%20null%2C%0A%20%20%20%20%20%20%20%20%22detectRetina%22%3A%20false%2C%0A%20%20%20%20%20%20%20%20%22maxNativeZoom%22%3A%2018%2C%0A%20%20%20%20%20%20%20%20%22maxZoom%22%3A%2018%2C%0A%20%20%20%20%20%20%20%20%22minZoom%22%3A%200%2C%0A%20%20%20%20%20%20%20%20%22noWrap%22%3A%20false%2C%0A%20%20%20%20%20%20%20%20%22opacity%22%3A%201%2C%0A%20%20%20%20%20%20%20%20%22subdomains%22%3A%20%22abc%22%2C%0A%20%20%20%20%20%20%20%20%22tms%22%3A%20false%0A%7D%29.addTo%28map_9484cc7dedbf4e0187cbd8a94946ebbe%29%3B%0A%3C/script%3E onload=\"this.contentDocument.open();this.contentDocument.write(    decodeURIComponent(this.getAttribute('data-html')));this.contentDocument.close();\" \"allowfullscreen\" \"webkitallowfullscreen\" \"mozallowfullscreen\"></iframe>"
            ],
            "text/plain": [
              "<branca.element.Figure at 0x7fd75cbdec50>"
            ]
          },
          "metadata": {},
          "execution_count": 90
        }
      ]
    },
    {
      "cell_type": "code",
      "source": [
        "def plot_morning_by_day(day_idx):\n",
        "  \n",
        "  morning_peek_start = all_morning_peek_hours[day_idx][0]\n",
        "  morning_peek_end = all_morning_peek_hours[day_idx][1]\n",
        "  \n",
        "  for time_point in range(morning_peek_start, morning_peek_end, 600):\n",
        "    # create figure\n",
        "    fig = Figure(width = 550, height = 350)\n",
        "\n",
        "    # add map to figure\n",
        "    m = folium.Map(location = [sg_lat, sg_lng],\n",
        "            tiles = 'cartodbpositron',\n",
        "            zoom_start = 11)\n",
        "    fig.add_child(m)\n",
        "\n",
        "    \n",
        "    stamp_key = str(time_point)\n",
        "    day_key = str(day_idx)\n",
        "    sample_ps = sample_passengers[day_idx][time_point]\n",
        "    sample_ds = sample_drivers[day_idx][time_point]\n",
        "\n",
        "    if len(sample_ps) == 0 or len(sample_ds) == 0:\n",
        "      continue\n",
        "    \n",
        "    for p in sample_ps:\n",
        "      folium.Marker(location = [p[0], p[1]],\n",
        "             popup = 'Default popup Marker1',\n",
        "             icon = folium.Icon(color = \"green\")).add_to(m)\n",
        "\n",
        "    for d in sample_ds:\n",
        "      folium.Marker(location = [d[0], d[1]],\n",
        "             popup = 'Default popup Marker1',\n",
        "             icon = folium.Icon(color = \"blue\")).add_to(m)\n",
        "    \n",
        "    stamp_to_datetime = str(datetime.datetime.fromtimestamp(time_point))\n",
        "    m.save(BASE_DIR + \"JK/\" + \"day{}/\".format(day_idx + 1) + \n",
        "           stamp_to_datetime + \".html\")\n"
      ],
      "metadata": {
        "id": "yQS0kxF0O0R1"
      },
      "execution_count": null,
      "outputs": []
    },
    {
      "cell_type": "code",
      "source": [
        "def plot_night_by_day(day_idx):\n",
        "  \n",
        "  night_peek_start = all_night_peek_hours[day_idx][0]\n",
        "  night_peek_end = all_night_peek_hours[day_idx][1]\n",
        "  \n",
        "  for time_point in range(night_peek_start, night_peek_end, 600):\n",
        "    # create figure\n",
        "    fig = Figure(width = 550, height = 350)\n",
        "\n",
        "    # add map to figure\n",
        "    m = folium.Map(location = [sg_lat, sg_lng],\n",
        "            tiles = 'cartodbpositron',\n",
        "            zoom_start = 11)\n",
        "    fig.add_child(m)\n",
        "\n",
        "    \n",
        "    stamp_key = str(time_point)\n",
        "    day_key = str(day_idx)\n",
        "    sample_ps = sample_passengers[day_idx][time_point]\n",
        "    sample_ds = sample_drivers[day_idx][time_point]\n",
        "\n",
        "    if len(sample_ps) == 0 or len(sample_ds) == 0:\n",
        "      continue\n",
        "    \n",
        "    for p in sample_ps:\n",
        "      folium.Marker(location = [p[0], p[1]],\n",
        "             popup = 'Default popup Marker1',\n",
        "             icon = folium.Icon(color = \"green\")).add_to(m)\n",
        "\n",
        "    for d in sample_ds:\n",
        "      folium.Marker(location = [d[0], d[1]],\n",
        "             popup = 'Default popup Marker1',\n",
        "             icon = folium.Icon(color = \"blue\")).add_to(m)\n",
        "    \n",
        "    stamp_to_datetime = str(datetime.datetime.fromtimestamp(time_point))\n",
        "    m.save(BASE_DIR + \"JK/\" + \"day{}/\".format(day_idx + 1) + \n",
        "           stamp_to_datetime + \".html\")"
      ],
      "metadata": {
        "id": "cK1VHT5mmFfG"
      },
      "execution_count": null,
      "outputs": []
    },
    {
      "cell_type": "code",
      "source": [
        "for i in range(14):\n",
        "  plot_morning_by_day(i)\n",
        "  plot_night_by_day(i)"
      ],
      "metadata": {
        "id": "D9jjcbOQO0PL"
      },
      "execution_count": null,
      "outputs": []
    },
    {
      "cell_type": "code",
      "source": [
        "pings = sg_dataset[['rawlat', 'rawlng']].to_numpy()\n",
        "batch_size = 128\n",
        "num_batches = pings.shape[0] // batch_size"
      ],
      "metadata": {
        "id": "5YPcYTBiO0Mz"
      },
      "execution_count": null,
      "outputs": []
    },
    {
      "cell_type": "code",
      "source": [
        "# create new figure\n",
        "heat_map = Figure(height = 550, width = 750)\n",
        "\n",
        "# create new map\n",
        "map = folium.Map([sg_lat, sg_lng], zoom_start = 11,\n",
        "                             min_zoom = 11, max_zoom = 16)\n",
        "heat_map.add_child(map)\n",
        "for i in range(num_batches):\n",
        "  # create heatmap and add to map\n",
        "  ping_batch = pings[i * batch_size: (i + 1) * batch_size]\n",
        "  plugins.HeatMap(ping_batch, radius = 4, blur = 6).add_to(map)"
      ],
      "metadata": {
        "id": "z9yMuIvAO0KN"
      },
      "execution_count": null,
      "outputs": []
    }
  ],
  "metadata": {
    "colab": {
      "provenance": [],
      "machine_shape": "hm",
      "include_colab_link": true
    },
    "kernelspec": {
      "display_name": "Python 3",
      "name": "python3"
    },
    "language_info": {
      "name": "python"
    }
  },
  "nbformat": 4,
  "nbformat_minor": 0
}